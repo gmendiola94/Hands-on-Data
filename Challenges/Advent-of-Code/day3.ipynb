{
 "cells": [
  {
   "cell_type": "markdown",
   "metadata": {},
   "source": [
    "## Day 3: Rucksack Reorganization\n",
    "[Link to puzzle](https://adventofcode.com/2022/day/3)"
   ]
  },
  {
   "cell_type": "code",
   "execution_count": 9,
   "metadata": {},
   "outputs": [],
   "source": [
    "# Read input and append trimmed lines to list\n",
    "path = 'input/day3.txt'\n",
    "input = []\n",
    "with open(path) as f:\n",
    "    [input.append(line.strip()) for line in f.readlines()]"
   ]
  },
  {
   "cell_type": "code",
   "execution_count": 11,
   "metadata": {},
   "outputs": [],
   "source": [
    "pairs = []\n",
    "for i in range(0, len(input)):\n",
    "    # Split strings in two groups\n",
    "    pairs.append([input[i][x:x+int(len(input[i])/2)]\n",
    "                  for x in range(0, len(input[i]), int(len(input[i])/2))])"
   ]
  },
  {
   "cell_type": "code",
   "execution_count": 28,
   "metadata": {},
   "outputs": [],
   "source": [
    "# Alphabet list\n",
    "alphabet = list(map(chr, range(97, 123)))\n",
    "alphabet.extend([x.upper() for x in alphabet])\n",
    "# Zip each letter with their priorities\n",
    "alphabet_index = list(range(1, len(alphabet)+1))\n",
    "alphabet_score = dict(zip(alphabet, alphabet_index))"
   ]
  },
  {
   "cell_type": "markdown",
   "metadata": {},
   "source": [
    "#### Part 1"
   ]
  },
  {
   "cell_type": "code",
   "execution_count": 27,
   "metadata": {},
   "outputs": [
    {
     "name": "stdout",
     "output_type": "stream",
     "text": [
      "7766\n"
     ]
    }
   ],
   "source": [
    "score = 0\n",
    "for sublist in pairs:\n",
    "    # Store list parts and find the intersecting character\n",
    "    str1, str2 = set(sublist[0]), sublist[1]\n",
    "    common_char = str1.intersection(str2)\n",
    "    # Add priority scores\n",
    "    if len(common_char) == 1:\n",
    "        score += alphabet_score[common_char.pop()]\n",
    "print(score)"
   ]
  },
  {
   "cell_type": "markdown",
   "metadata": {},
   "source": [
    "#### Part 2"
   ]
  },
  {
   "cell_type": "code",
   "execution_count": 36,
   "metadata": {},
   "outputs": [],
   "source": [
    "# Segmenting strings into 3 groups\n",
    "elvesGroups = []\n",
    "elvesGroups.append([input[x:x+3] for x in range(0, len(input), 3)])"
   ]
  },
  {
   "cell_type": "code",
   "execution_count": 37,
   "metadata": {},
   "outputs": [
    {
     "name": "stdout",
     "output_type": "stream",
     "text": [
      "2415\n"
     ]
    }
   ],
   "source": [
    "# Calculating priority score\n",
    "score = 0\n",
    "for sublist in elvesGroups[0]:\n",
    "    # Store list parts and find the intersecting character\n",
    "    str1, str2, str3 = set(sublist[0]), sublist[1], sublist[2]\n",
    "    common_char = str1.intersection(str2, str3)\n",
    "    # Add priority scores\n",
    "    if len(common_char) == 1:\n",
    "        score += alphabet_score[common_char.pop()]\n",
    "print(score)"
   ]
  }
 ],
 "metadata": {
  "kernelspec": {
   "display_name": "Python 3.8.8 ('AoC')",
   "language": "python",
   "name": "python3"
  },
  "language_info": {
   "codemirror_mode": {
    "name": "ipython",
    "version": 3
   },
   "file_extension": ".py",
   "mimetype": "text/x-python",
   "name": "python",
   "nbconvert_exporter": "python",
   "pygments_lexer": "ipython3",
   "version": "3.8.8"
  },
  "orig_nbformat": 4,
  "vscode": {
   "interpreter": {
    "hash": "01ea6ecf944cedd5ad646c05068ab494d1837f63e44df726f063295c574e19cf"
   }
  }
 },
 "nbformat": 4,
 "nbformat_minor": 2
}
