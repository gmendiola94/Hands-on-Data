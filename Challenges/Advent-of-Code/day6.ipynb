{
 "cells": [
  {
   "cell_type": "markdown",
   "metadata": {},
   "source": [
    "## Day 6: Tuning Trouble\n",
    "[Link to puzzle](https://adventofcode.com/2022/day/6)"
   ]
  },
  {
   "cell_type": "code",
   "execution_count": 62,
   "metadata": {},
   "outputs": [],
   "source": [
    "# Read input file\n",
    "path = 'input/day6.txt'\n",
    "input = open(path, 'r').read()"
   ]
  },
  {
   "cell_type": "markdown",
   "metadata": {},
   "source": [
    "#### Part 1"
   ]
  },
  {
   "cell_type": "code",
   "execution_count": 64,
   "metadata": {},
   "outputs": [
    {
     "data": {
      "text/plain": [
       "\"The four digits are 'mbnz', found at 1100th character\""
      ]
     },
     "execution_count": 64,
     "metadata": {},
     "output_type": "execute_result"
    }
   ],
   "source": [
    "def find_marker(NumChar=4):\n",
    "    for i in range(0, len(input)):\n",
    "        # Slice the string one chunk of n (Numchar) characters at the time\n",
    "        pot_mkr = input[i:i+NumChar]\n",
    "        # Until n distinct characters are found\n",
    "        if len(set(pot_mkr)) == NumChar:\n",
    "            mkr, pos = pot_mkr, i+NumChar\n",
    "            break\n",
    "    return \"The four digits are '{0}', found at {1}th character\".format(mkr,\n",
    "                                                                        pos)\n",
    "\n",
    "\n",
    "find_marker(4)"
   ]
  },
  {
   "cell_type": "markdown",
   "metadata": {},
   "source": [
    "#### Part 2"
   ]
  },
  {
   "cell_type": "code",
   "execution_count": 61,
   "metadata": {},
   "outputs": [
    {
     "data": {
      "text/plain": [
       "\"The four digits are 'cmwlnbzqjsgftr', found at 2421th character\""
      ]
     },
     "execution_count": 61,
     "metadata": {},
     "output_type": "execute_result"
    }
   ],
   "source": [
    "find_marker(14)"
   ]
  }
 ],
 "metadata": {
  "kernelspec": {
   "display_name": "Python 3.8.8 ('AoC')",
   "language": "python",
   "name": "python3"
  },
  "language_info": {
   "codemirror_mode": {
    "name": "ipython",
    "version": 3
   },
   "file_extension": ".py",
   "mimetype": "text/x-python",
   "name": "python",
   "nbconvert_exporter": "python",
   "pygments_lexer": "ipython3",
   "version": "3.8.8"
  },
  "orig_nbformat": 4,
  "vscode": {
   "interpreter": {
    "hash": "01ea6ecf944cedd5ad646c05068ab494d1837f63e44df726f063295c574e19cf"
   }
  }
 },
 "nbformat": 4,
 "nbformat_minor": 2
}
