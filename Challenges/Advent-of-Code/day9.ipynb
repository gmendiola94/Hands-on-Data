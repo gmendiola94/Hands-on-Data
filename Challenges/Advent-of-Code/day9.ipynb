{
 "cells": [
  {
   "cell_type": "markdown",
   "metadata": {},
   "source": [
    "## Day 9: Rope Bridge\n",
    "[Link to puzzle](https://adventofcode.com/2022/day/9)"
   ]
  },
  {
   "cell_type": "code",
   "execution_count": 2,
   "metadata": {},
   "outputs": [],
   "source": [
    "# Read input file\n",
    "path = 'input/day9.txt'\n",
    "\n",
    "with open(path, 'r', encoding='utf-8') as file:\n",
    "    input = file.read().splitlines()"
   ]
  },
  {
   "cell_type": "markdown",
   "metadata": {},
   "source": [
    "#### Part 1"
   ]
  },
  {
   "cell_type": "code",
   "execution_count": 39,
   "metadata": {},
   "outputs": [
    {
     "data": {
      "text/plain": [
       "5907"
      ]
     },
     "execution_count": 39,
     "metadata": {},
     "output_type": "execute_result"
    }
   ],
   "source": [
    "# Set of unique visited loc for the tail\n",
    "visited = set()\n",
    "\n",
    "# Head and tail starting coordinates\n",
    "t_x, t_y = 0, 0\n",
    "h_x, h_y = 0, 0\n",
    "\n",
    "# Posible movements directions\n",
    "movDir = {\n",
    "          \"U\": [0, 1],\n",
    "          \"D\": [0, -1],\n",
    "          \"L\": [-1, 0],\n",
    "          \"R\": [1, 0]\n",
    "}\n",
    "\n",
    "\n",
    "def are_touching(t_x, t_y, h_x, h_y):\n",
    "    return abs(t_x - h_x) <= 1 and abs(t_y - h_y) <= 1\n",
    "\n",
    "\n",
    "def movement(dirx, diry):\n",
    "    global t_x, t_y, h_x, h_y\n",
    "\n",
    "    # Move head\n",
    "    h_x += dirx\n",
    "    h_y += diry\n",
    "\n",
    "    # Evaluate tail position when points are not touching\n",
    "    if are_touching(t_x, t_y, h_x, h_y) is False:\n",
    "        t_move_x = 0 if t_x == h_x else (h_x-t_x)/abs(h_x-t_x)\n",
    "        t_move_y = 0 if t_y == h_y else (h_y-t_y)/abs(h_y-t_y)\n",
    "\n",
    "        # Move tail (will be 0 when they're on the same axis)\n",
    "        t_x += t_move_x\n",
    "        t_y += t_move_y\n",
    "\n",
    "\n",
    "for instruction in input:\n",
    "    direction, quantity = instruction.split(\" \")\n",
    "    dirx, diry = movDir[direction]\n",
    "    for i in range(int(quantity)):\n",
    "        movement(dirx, diry)\n",
    "        visited.add((t_x, t_y))\n",
    "\n",
    "len(visited)"
   ]
  },
  {
   "cell_type": "markdown",
   "metadata": {},
   "source": [
    "#### Part 2"
   ]
  },
  {
   "cell_type": "code",
   "execution_count": 67,
   "metadata": {},
   "outputs": [
    {
     "data": {
      "text/plain": [
       "2303"
      ]
     },
     "execution_count": 67,
     "metadata": {},
     "output_type": "execute_result"
    }
   ],
   "source": [
    "# Set of unique visited loc for the tail\n",
    "visited = set()\n",
    "knotVisits = [[0, 0] for _ in range(9)]\n",
    "\n",
    "# Head and tail starting coordinates\n",
    "t_x, t_y = 0, 0\n",
    "h_x, h_y = 0, 0\n",
    "\n",
    "\n",
    "def knots_movement(dirx, diry):\n",
    "    global h_x, h_y, knotVisits\n",
    "\n",
    "    # Store head movement\n",
    "    h_x += dirx\n",
    "    h_y += diry\n",
    "\n",
    "    # Go through knot list\n",
    "    for i in range(len(knotVisits)):\n",
    "        # First compares head with knot 1, then knots 1, 2, 3...9\n",
    "        t0_x, t0_y = [h_x, h_y] if i == 0 else knotVisits[i-1]\n",
    "        t_x, t_y = knotVisits[i]\n",
    "\n",
    "        # Evaluate tail position when points are not touching\n",
    "        if are_touching(t_x, t_y, t0_x, t0_y) is False:\n",
    "            t_move_x = 0 if t_x == t0_x else (t0_x-t_x)/abs(t0_x-t_x)\n",
    "            t_move_y = 0 if t_y == t0_y else (t0_y-t_y)/abs(t0_y-t_y)\n",
    "\n",
    "            # Move tail (will be 0 when they're on the same axis)\n",
    "            t_x += t_move_x\n",
    "            t_y += t_move_y\n",
    "\n",
    "        # Record knot visit\n",
    "        knotVisits[i] = [t_x, t_y]\n",
    "\n",
    "\n",
    "for instruction in input:\n",
    "    direction, quantity = instruction.split(\" \")\n",
    "    dirx, diry = movDir[direction]\n",
    "    for i in range(int(quantity)):\n",
    "        knots_movement(dirx, diry)\n",
    "        visited.add(tuple(knotVisits[-1]))\n",
    "\n",
    "len(visited)"
   ]
  }
 ],
 "metadata": {
  "kernelspec": {
   "display_name": "Python 3.8.8 ('AoC')",
   "language": "python",
   "name": "python3"
  },
  "language_info": {
   "codemirror_mode": {
    "name": "ipython",
    "version": 3
   },
   "file_extension": ".py",
   "mimetype": "text/x-python",
   "name": "python",
   "nbconvert_exporter": "python",
   "pygments_lexer": "ipython3",
   "version": "3.8.8"
  },
  "orig_nbformat": 4,
  "vscode": {
   "interpreter": {
    "hash": "01ea6ecf944cedd5ad646c05068ab494d1837f63e44df726f063295c574e19cf"
   }
  }
 },
 "nbformat": 4,
 "nbformat_minor": 2
}
