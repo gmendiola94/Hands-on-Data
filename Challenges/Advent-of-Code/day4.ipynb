{
 "cells": [
  {
   "cell_type": "markdown",
   "metadata": {},
   "source": [
    "## Day 4: Camp Cleanup\n",
    "[Link to puzzle](https://adventofcode.com/2022/day/4)"
   ]
  },
  {
   "cell_type": "code",
   "execution_count": 10,
   "metadata": {},
   "outputs": [],
   "source": [
    "import re"
   ]
  },
  {
   "cell_type": "code",
   "execution_count": 20,
   "metadata": {},
   "outputs": [],
   "source": [
    "# Read input\n",
    "path = 'input/day4.txt'\n",
    "elvish_work = open(path, 'r').read().split(\"\\n\")"
   ]
  },
  {
   "cell_type": "markdown",
   "metadata": {},
   "source": [
    "#### Part 1 & 2"
   ]
  },
  {
   "cell_type": "code",
   "execution_count": 22,
   "metadata": {},
   "outputs": [
    {
     "name": "stdout",
     "output_type": "stream",
     "text": [
      "540 872\n"
     ]
    }
   ],
   "source": [
    "# Exclude blank lines\n",
    "elvish_work = [x for x in elvish_work if x]\n",
    "\n",
    "count_part1 = 0\n",
    "count_part2 = 0\n",
    "\n",
    "for elf_pair in elvish_work:\n",
    "    # Split elements of list by - and ,\n",
    "    l1, l2, r1, r2 = [int(x) for x in re.split(r\"[-,]\", elf_pair)]\n",
    "    # Create sets from start-end numbers\n",
    "    elf1 = set(range(l1, l2+1))\n",
    "    elf2 = set(range(r1, r2+1))\n",
    "    # Does range 1 fully contains range 2 or viceversa?\n",
    "    if(elf1.issubset(elf2) or elf2.issubset(elf1)):\n",
    "        count_part1 += 1\n",
    "    # Does range 1 overlaps range 2 or viceversa?\n",
    "    if(elf1.intersection(elf2)):\n",
    "        count_part2 += 1\n",
    "\n",
    "print(count_part1, count_part2)"
   ]
  }
 ],
 "metadata": {
  "kernelspec": {
   "display_name": "Python 3.8.8 ('AoC')",
   "language": "python",
   "name": "python3"
  },
  "language_info": {
   "codemirror_mode": {
    "name": "ipython",
    "version": 3
   },
   "file_extension": ".py",
   "mimetype": "text/x-python",
   "name": "python",
   "nbconvert_exporter": "python",
   "pygments_lexer": "ipython3",
   "version": "3.8.8"
  },
  "orig_nbformat": 4,
  "vscode": {
   "interpreter": {
    "hash": "01ea6ecf944cedd5ad646c05068ab494d1837f63e44df726f063295c574e19cf"
   }
  }
 },
 "nbformat": 4,
 "nbformat_minor": 2
}
