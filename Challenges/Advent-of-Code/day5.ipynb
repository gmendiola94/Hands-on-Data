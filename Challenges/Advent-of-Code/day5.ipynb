{
 "cells": [
  {
   "cell_type": "markdown",
   "metadata": {},
   "source": [
    "## Day 5: Supply Stacks\n",
    "[Link to puzzle](https://adventofcode.com/2022/day/5)"
   ]
  },
  {
   "cell_type": "code",
   "execution_count": 101,
   "metadata": {},
   "outputs": [],
   "source": [
    "import re\n",
    "\n",
    "# Initialise lists\n",
    "input = []\n",
    "instructions = [[]]\n",
    "crates = []\n",
    "crate_stacks = []\n",
    "procedure = []\n",
    "\n",
    "# Read input file\n",
    "path = 'input/day5.txt'\n",
    "multilineInput = open(path, 'r').read()\n",
    "stacks, instructions = multilineInput.split(\"\\n\\n\")\n",
    "stacks, instructions = stacks.splitlines(), instructions.splitlines()"
   ]
  },
  {
   "cell_type": "code",
   "execution_count": 112,
   "metadata": {},
   "outputs": [],
   "source": [
    "# Empty list to contain 9 stacks\n",
    "stackVals = [\"\"]*9\n",
    "\n",
    "def prepare_stacks():\n",
    "    # Iterate from bottom to top so we have the top item at the last position\n",
    "    for stackRow in range(len(stacks)-2, -1, -1):\n",
    "        for letterIdx in range(1, len(stacks[0]), 4):\n",
    "            # Check if index contains a letter\n",
    "            if stacks[stackRow][letterIdx].isupper():\n",
    "                # Append to corresponding row\n",
    "                stackVals[letterIdx//4] += stacks[stackRow][letterIdx]\n",
    "    # String to list\n",
    "    for i in range(0, len(stackVals)):\n",
    "        stackVals[i] = [*stackVals[i]]"
   ]
  },
  {
   "cell_type": "markdown",
   "metadata": {},
   "source": [
    "#### Part 1"
   ]
  },
  {
   "cell_type": "code",
   "execution_count": 115,
   "metadata": {},
   "outputs": [
    {
     "data": {
      "text/plain": [
       "'SHQWSRBDL'"
      ]
     },
     "execution_count": 115,
     "metadata": {},
     "output_type": "execute_result"
    }
   ],
   "source": [
    "def execute_instructions(order=-1):\n",
    "    prepare_stacks()\n",
    "    for i in range(0,len(instructions)):\n",
    "        move, from_, to = map(int, e.split(r\"\\D+\", instructions[i])[1:])\n",
    "        # Select boxes from stack\n",
    "        move_stacks = stackVals[from_-1][-move:][::order]\n",
    "        # Move to target stack\n",
    "        stackVals[to-1].extend(move_stacks)\n",
    "        # Delete from initial stack\n",
    "        del stackVals[from_-1][-move:]\n",
    "\n",
    "    topBoxes = \"\"\n",
    "    for stack in stackVals:\n",
    "        topBoxes += stack[-1:][0]\n",
    "    \n",
    "    return topBoxes\n",
    "\n",
    "\n",
    "execute_instructions()"
   ]
  },
  {
   "cell_type": "markdown",
   "metadata": {},
   "source": [
    "#### Part 2"
   ]
  },
  {
   "cell_type": "code",
   "execution_count": 116,
   "metadata": {},
   "outputs": [
    {
     "data": {
      "text/plain": [
       "'CDTQZHBRS'"
      ]
     },
     "execution_count": 116,
     "metadata": {},
     "output_type": "execute_result"
    }
   ],
   "source": [
    "execute_instructions(1)"
   ]
  }
 ],
 "metadata": {
  "kernelspec": {
   "display_name": "Python 3.8.8 ('AoC')",
   "language": "python",
   "name": "python3"
  },
  "language_info": {
   "codemirror_mode": {
    "name": "ipython",
    "version": 3
   },
   "file_extension": ".py",
   "mimetype": "text/x-python",
   "name": "python",
   "nbconvert_exporter": "python",
   "pygments_lexer": "ipython3",
   "version": "3.8.8"
  },
  "orig_nbformat": 4,
  "vscode": {
   "interpreter": {
    "hash": "01ea6ecf944cedd5ad646c05068ab494d1837f63e44df726f063295c574e19cf"
   }
  }
 },
 "nbformat": 4,
 "nbformat_minor": 2
}
