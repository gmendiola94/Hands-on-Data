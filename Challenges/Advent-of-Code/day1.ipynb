{
 "cells": [
  {
   "cell_type": "markdown",
   "metadata": {},
   "source": [
    "## Day 1: Calorie Counting \n",
    "[Link to puzzle](https://adventofcode.com/2022/day/1)"
   ]
  },
  {
   "cell_type": "code",
   "execution_count": 4,
   "metadata": {},
   "outputs": [],
   "source": [
    "# Read input and split by empty lines\n",
    "path = 'input/day1.txt'\n",
    "input = open(path, \"r\").read()\n",
    "input = input.split(\"\\n\\n\")"
   ]
  },
  {
   "cell_type": "markdown",
   "metadata": {},
   "source": [
    "#### Part 1"
   ]
  },
  {
   "cell_type": "code",
   "execution_count": 5,
   "metadata": {},
   "outputs": [
    {
     "name": "stdout",
     "output_type": "stream",
     "text": [
      "67633\n"
     ]
    }
   ],
   "source": [
    "# Create an initial lists from calorie groups\n",
    "calories = [line.splitlines() for line in input]\n",
    "# Add calories in each group\n",
    "sum_calories = [sum([int(cal) for cal in calorie]) for calorie in calories]\n",
    "# Sort in descending order\n",
    "sum_calories.sort(reverse=True)\n",
    "# Result\n",
    "part1 = max(sum_calories)\n",
    "print(part1)"
   ]
  },
  {
   "cell_type": "markdown",
   "metadata": {},
   "source": [
    "#### Part 2"
   ]
  },
  {
   "cell_type": "code",
   "execution_count": 7,
   "metadata": {},
   "outputs": [
    {
     "name": "stdout",
     "output_type": "stream",
     "text": [
      "[67633, 66296, 65699]\n"
     ]
    }
   ],
   "source": [
    "# Top 3 calories\n",
    "part2 = sum_calories[:3]\n",
    "print(part2)"
   ]
  }
 ],
 "metadata": {
  "kernelspec": {
   "display_name": "Python 3.8.8 ('AoC')",
   "language": "python",
   "name": "python3"
  },
  "language_info": {
   "codemirror_mode": {
    "name": "ipython",
    "version": 3
   },
   "file_extension": ".py",
   "mimetype": "text/x-python",
   "name": "python",
   "nbconvert_exporter": "python",
   "pygments_lexer": "ipython3",
   "version": "3.8.8"
  },
  "orig_nbformat": 4,
  "vscode": {
   "interpreter": {
    "hash": "01ea6ecf944cedd5ad646c05068ab494d1837f63e44df726f063295c574e19cf"
   }
  }
 },
 "nbformat": 4,
 "nbformat_minor": 2
}
