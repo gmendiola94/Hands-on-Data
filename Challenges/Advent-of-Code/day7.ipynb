{
 "cells": [
  {
   "cell_type": "markdown",
   "metadata": {},
   "source": [
    "## Day 7: No Space Left On Device\n",
    "[Link to puzzle](https://adventofcode.com/2022/day/7)"
   ]
  },
  {
   "cell_type": "code",
   "execution_count": 43,
   "metadata": {},
   "outputs": [],
   "source": [
    "from collections import defaultdict\n",
    "\n",
    "# Read input file\n",
    "path = 'input/day7.txt'\n",
    "input = open(path, 'r').read().splitlines()"
   ]
  },
  {
   "cell_type": "code",
   "execution_count": 83,
   "metadata": {},
   "outputs": [],
   "source": [
    "# Create command line list excluding ls and dir commands\n",
    "CommandList = [line.replace(\"$ \", \"\") for line in input if \"dir\" not in line\n",
    "               and \"ls\" not in line]"
   ]
  },
  {
   "cell_type": "markdown",
   "metadata": {},
   "source": [
    "#### Part 1"
   ]
  },
  {
   "cell_type": "code",
   "execution_count": 94,
   "metadata": {},
   "outputs": [
    {
     "data": {
      "text/plain": [
       "1390824"
      ]
     },
     "execution_count": 94,
     "metadata": {},
     "output_type": "execute_result"
    }
   ],
   "source": [
    "fileSize = defaultdict(int)\n",
    "folderPath = []\n",
    "\n",
    "for folderIdx in range(len(CommandList)):\n",
    "    # Store trail of opened folders\n",
    "    if CommandList[folderIdx][0:2] == \"cd\" and CommandList[folderIdx][3:5] != \"..\":\n",
    "        folderPath.append(folderIdx)\n",
    "    # Remove when path goes up one level (cd ..)\n",
    "    elif CommandList[folderIdx][3:5] == \"..\":\n",
    "        folderPath.pop()\n",
    "    # Store file size in dict per each item in 'folderPath' (add size to parent folders as well)\n",
    "    else:\n",
    "        for element in folderPath:\n",
    "            fileSize[element] += int(CommandList[folderIdx].split(\" \")[0])\n",
    "\n",
    "# Obtain the sum of folders with sizes up to 100k\n",
    "part_1 = sum([size for size in fileSize.values() if size <= 100000])\n",
    "part_1"
   ]
  },
  {
   "cell_type": "markdown",
   "metadata": {},
   "source": [
    "#### Part 2"
   ]
  },
  {
   "cell_type": "code",
   "execution_count": 93,
   "metadata": {},
   "outputs": [
    {
     "name": "stdout",
     "output_type": "stream",
     "text": [
      "To free up space delete directory with size 7490863, space needed 6443762\n"
     ]
    }
   ],
   "source": [
    "unusedSpace = 70000000 - fileSize[0]\n",
    "neededSpace = 30000000 - unusedSpace\n",
    "\n",
    "deleteDirectory = min([size for size in fileSize.values() if size >= neededSpace])\n",
    "print(\"To free up space delete directory with size {0}, space needed {1}\".format(deleteDirectory, neededSpace))"
   ]
  }
 ],
 "metadata": {
  "kernelspec": {
   "display_name": "Python 3.8.8 ('AoC')",
   "language": "python",
   "name": "python3"
  },
  "language_info": {
   "codemirror_mode": {
    "name": "ipython",
    "version": 3
   },
   "file_extension": ".py",
   "mimetype": "text/x-python",
   "name": "python",
   "nbconvert_exporter": "python",
   "pygments_lexer": "ipython3",
   "version": "3.8.8"
  },
  "orig_nbformat": 4,
  "vscode": {
   "interpreter": {
    "hash": "01ea6ecf944cedd5ad646c05068ab494d1837f63e44df726f063295c574e19cf"
   }
  }
 },
 "nbformat": 4,
 "nbformat_minor": 2
}
