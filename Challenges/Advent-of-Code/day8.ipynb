{
 "cells": [
  {
   "cell_type": "markdown",
   "metadata": {},
   "source": [
    "## Day 8: Treetop Tree House\n",
    "[Link to puzzle](https://adventofcode.com/2022/day/8)"
   ]
  },
  {
   "cell_type": "code",
   "execution_count": 104,
   "metadata": {},
   "outputs": [],
   "source": [
    "import numpy as np\n",
    "\n",
    "# Read input file\n",
    "path = 'input/day8.txt'\n",
    "input = open(path, 'r').read().splitlines()"
   ]
  },
  {
   "cell_type": "markdown",
   "metadata": {},
   "source": [
    "#### Part 1"
   ]
  },
  {
   "cell_type": "code",
   "execution_count": 106,
   "metadata": {},
   "outputs": [],
   "source": [
    "treeGrid = np.matrix([list(input[i]) for i in range(len(input))]).astype(int)\n",
    "row, col = len(treeGrid[:]), len(treeGrid)"
   ]
  },
  {
   "cell_type": "code",
   "execution_count": 137,
   "metadata": {},
   "outputs": [
    {
     "name": "stdout",
     "output_type": "stream",
     "text": [
      "1849\n"
     ]
    }
   ],
   "source": [
    "# Outer trees always visible\n",
    "visibleTrees = len(treeGrid)*4-4\n",
    "\n",
    "for columnidx in range(1, row-1):\n",
    "    for rowidx in range(1, col-1):\n",
    "        tree = treeGrid[rowidx, columnidx]\n",
    "        left = treeGrid[rowidx, :columnidx]\n",
    "        right = treeGrid[rowidx, columnidx+1:row]\n",
    "        top = treeGrid[:rowidx, columnidx]\n",
    "        bottom = treeGrid[rowidx+1:, columnidx]\n",
    "        if tree > min(map(np.max, (left, right, top, bottom))):\n",
    "            visibleTrees += 1\n",
    "print(visibleTrees)"
   ]
  },
  {
   "cell_type": "markdown",
   "metadata": {},
   "source": [
    "#### Part 2"
   ]
  },
  {
   "cell_type": "code",
   "execution_count": 183,
   "metadata": {},
   "outputs": [
    {
     "name": "stdout",
     "output_type": "stream",
     "text": [
      "201600\n"
     ]
    }
   ],
   "source": [
    "# Outer trees always visible\n",
    "visibleTrees = len(treeGrid)*4-4\n",
    "scenicScores = []\n",
    "\n",
    "\n",
    "for columnidx in range(1, row-1):\n",
    "    for rowidx in range(1, col-1):\n",
    "        tree = treeGrid[rowidx, columnidx]\n",
    "        left = treeGrid[rowidx, :columnidx].A1\n",
    "        right = treeGrid[rowidx, columnidx+1:row].A1\n",
    "        top = treeGrid[:rowidx, columnidx].A1\n",
    "        bottom = treeGrid[rowidx+1:, columnidx].A1\n",
    "\n",
    "        scenicScore = 1\n",
    "        for treeLine in (left[::-1], right, top[::-1], bottom):\n",
    "            distance = 0\n",
    "            for i in range(len(treeLine)):\n",
    "                if tree <= treeLine[i]:\n",
    "                    distance += 1\n",
    "                    break\n",
    "                else:\n",
    "                    distance += 1\n",
    "            scenicScore *= distance\n",
    "        scenicScores.append(scenicScore)\n",
    "\n",
    "print(max(scenicScores))"
   ]
  }
 ],
 "metadata": {
  "kernelspec": {
   "display_name": "Python 3.8.8 ('AoC')",
   "language": "python",
   "name": "python3"
  },
  "language_info": {
   "codemirror_mode": {
    "name": "ipython",
    "version": 3
   },
   "file_extension": ".py",
   "mimetype": "text/x-python",
   "name": "python",
   "nbconvert_exporter": "python",
   "pygments_lexer": "ipython3",
   "version": "3.8.8"
  },
  "orig_nbformat": 4,
  "vscode": {
   "interpreter": {
    "hash": "01ea6ecf944cedd5ad646c05068ab494d1837f63e44df726f063295c574e19cf"
   }
  }
 },
 "nbformat": 4,
 "nbformat_minor": 2
}
