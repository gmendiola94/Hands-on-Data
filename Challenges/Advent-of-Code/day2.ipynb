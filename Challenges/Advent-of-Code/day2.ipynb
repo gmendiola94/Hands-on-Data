{
 "cells": [
  {
   "cell_type": "markdown",
   "metadata": {},
   "source": [
    "## Day 2: Rock Paper Scissors\n",
    "[Link to puzzle](https://adventofcode.com/2022/day/2)"
   ]
  },
  {
   "cell_type": "code",
   "execution_count": 31,
   "metadata": {},
   "outputs": [],
   "source": [
    "# Read input and split lines\n",
    "path = 'input/day2.txt'\n",
    "input = open(path, \"r\").read().splitlines()"
   ]
  },
  {
   "cell_type": "markdown",
   "metadata": {},
   "source": [
    "#### Part 1"
   ]
  },
  {
   "cell_type": "code",
   "execution_count": 32,
   "metadata": {},
   "outputs": [
    {
     "data": {
      "text/plain": [
       "11150"
      ]
     },
     "execution_count": 32,
     "metadata": {},
     "output_type": "execute_result"
    }
   ],
   "source": [
    "def part1_score(input):\n",
    "    score = 0\n",
    "    for game in input:\n",
    "        # winning pairs\n",
    "        if game in ('A Y', 'B Z', 'C X'):\n",
    "            score += 6\n",
    "        # draw pairs\n",
    "        if game in ('A X', 'B Y', 'C Z'):\n",
    "            score += 3\n",
    "        # shape scores\n",
    "        if 'X' in game:\n",
    "            score += 1\n",
    "        elif 'Y' in game:\n",
    "            score += 2\n",
    "        elif 'Z' in game:\n",
    "            score += 3\n",
    "    return score\n",
    "\n",
    "\n",
    "part1_score(input)"
   ]
  },
  {
   "cell_type": "markdown",
   "metadata": {},
   "source": [
    "#### Part 2"
   ]
  },
  {
   "cell_type": "code",
   "execution_count": 34,
   "metadata": {},
   "outputs": [
    {
     "data": {
      "text/plain": [
       "8295"
      ]
     },
     "execution_count": 34,
     "metadata": {},
     "output_type": "execute_result"
    }
   ],
   "source": [
    "def part2_score(input):\n",
    "    score = 0\n",
    "    for game in input:\n",
    "        # game outcomes and shape scores\n",
    "        if 'X' in game:\n",
    "            score += 0\n",
    "            if 'A' in game:\n",
    "                score += 3\n",
    "            if 'B' in game:\n",
    "                score += 1\n",
    "            if 'C' in game:\n",
    "                score += 2\n",
    "        elif 'Y' in game:\n",
    "            score += 3\n",
    "            if 'A' in game:\n",
    "                score += 1\n",
    "            if 'B' in game:\n",
    "                score += 2\n",
    "            if 'C' in game:\n",
    "                score += 3\n",
    "        elif 'Z' in game:\n",
    "            score += 6\n",
    "            if 'A' in game:\n",
    "                score += 2\n",
    "            if 'B' in game:\n",
    "                score += 3\n",
    "            if 'C' in game:\n",
    "                score += 1\n",
    "    return score\n",
    "\n",
    "\n",
    "part2_score(input)"
   ]
  }
 ],
 "metadata": {
  "kernelspec": {
   "display_name": "Python 3.8.8 ('base')",
   "language": "python",
   "name": "python3"
  },
  "language_info": {
   "codemirror_mode": {
    "name": "ipython",
    "version": 3
   },
   "file_extension": ".py",
   "mimetype": "text/x-python",
   "name": "python",
   "nbconvert_exporter": "python",
   "pygments_lexer": "ipython3",
   "version": "3.8.8"
  },
  "orig_nbformat": 4,
  "vscode": {
   "interpreter": {
    "hash": "f08154012ddadd8e950e6e9e035c7a7b32c136e7647e9b7c77e02eb723a8bedb"
   }
  }
 },
 "nbformat": 4,
 "nbformat_minor": 2
}
